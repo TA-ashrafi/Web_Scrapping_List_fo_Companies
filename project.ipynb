{
 "cells": [
  {
   "cell_type": "markdown",
   "id": "4e8290c4",
   "metadata": {},
   "source": [
    "# WEB SCRAPPING PROJECT "
   ]
  },
  {
   "cell_type": "markdown",
   "id": "ab1fe296",
   "metadata": {},
   "source": [
    "### IMPORTING LIBRARIES"
   ]
  },
  {
   "cell_type": "code",
   "execution_count": null,
   "id": "ed890324",
   "metadata": {},
   "outputs": [
    {
     "name": "stdout",
     "output_type": "stream",
     "text": [
      "Faild to retrive Page Data :403 \n"
     ]
    }
   ],
   "source": [
    "from bs4 import BeautifulSoup\n",
    "import requests\n",
    "import pandas as pd\n",
    "\n",
    "# Define the URL\n",
    "url = 'https://www.ambitionbox.com/list-of-companies'\n",
    "\n",
    "# Set headers to mimic a browser\n",
    "headers = {\n",
    "    'User-Agent': 'Mozilla/5.0 (Windows NT 10.0; Win64; x64) AppleWebKit/537.36 (KHTML, like Gecko) Chrome/91.0.4472.124 Safari/537.36'\n",
    "}\n",
    "\n",
    "try:\n",
    "    # Send a GET request with headers\n",
    "    page = requests.get(url, headers=headers)\n",
    "    \n",
    "    # Check if the request was successful\n",
    "    if page.status_code == 200:\n",
    "        soup = BeautifulSoup(page.text, 'html.parser')\n",
    "        print(soup.prettify())  # Print formatted HTML for better readability\n",
    "    else:\n",
    "        print(f\"Failed to retrieve page. Status code: {page.status_code}\")\n",
    "        print(f\"Response content: {page.text[:500]}\")  # Print first 500 chars of response for debugging\n",
    "\n",
    "except requests.exceptions.RequestException as e:\n",
    "    print(f\"Error occurred: {e}\")"
   ]
  }
 ],
 "metadata": {
  "kernelspec": {
   "display_name": "scrapping_4",
   "language": "python",
   "name": "python3"
  },
  "language_info": {
   "codemirror_mode": {
    "name": "ipython",
    "version": 3
   },
   "file_extension": ".py",
   "mimetype": "text/x-python",
   "name": "python",
   "nbconvert_exporter": "python",
   "pygments_lexer": "ipython3",
   "version": "3.10.9"
  }
 },
 "nbformat": 4,
 "nbformat_minor": 5
}
